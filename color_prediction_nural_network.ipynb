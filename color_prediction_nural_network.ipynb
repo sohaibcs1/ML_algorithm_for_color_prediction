{
  "cells": [
    {
      "cell_type": "code",
      "source": [
        "import numpy as np\n",
        "import pandas as pd\n",
        "from sklearn.model_selection import train_test_split\n",
        "from sklearn.preprocessing import StandardScaler\n",
        "from sklearn.metrics import mean_squared_error\n",
        "import tensorflow as tf"
      ],
      "metadata": {
        "id": "3TIanAfb3eJP"
      },
      "execution_count": null,
      "outputs": []
    },
    {
      "cell_type": "code",
      "source": [
        "# Load the dataset\n",
        "data = pd.read_csv('aishadestest.csv')"
      ],
      "metadata": {
        "id": "IiQD8JQm3-m8"
      },
      "execution_count": null,
      "outputs": []
    },
    {
      "cell_type": "code",
      "source": [
        "print(data.isnull().sum())"
      ],
      "metadata": {
        "colab": {
          "base_uri": "https://localhost:8080/"
        },
        "id": "Yv8eRtTw5EFa",
        "outputId": "841cda15-a1b5-47cc-a374-7060d73227c5"
      },
      "execution_count": null,
      "outputs": [
        {
          "output_type": "stream",
          "name": "stdout",
          "text": [
            "SHADE Bestbronze :    0\n",
            "% White               0\n",
            "% Yellow              0\n",
            "% Red                 0\n",
            "% Black               0\n",
            "Total                 0\n",
            "L                     0\n",
            "a                     0\n",
            "b                     0\n",
            "c*                    0\n",
            "h*                    0\n",
            "hexadecimal code      0\n",
            "dtype: int64\n"
          ]
        }
      ]
    },
    {
      "cell_type": "code",
      "source": [
        "print(data.columns)"
      ],
      "metadata": {
        "colab": {
          "base_uri": "https://localhost:8080/"
        },
        "id": "3D8pwyEe3-wT",
        "outputId": "6b0b6c4a-7178-4274-87ab-d3ff0e6aa73a"
      },
      "execution_count": null,
      "outputs": [
        {
          "output_type": "stream",
          "name": "stdout",
          "text": [
            "Index(['SHADE Bestbronze :', '% White', '% Yellow ', '% Red', '% Black ',\n",
            "       'Total ', 'L', 'a', 'b', 'c*', 'h*', 'hexadecimal code'],\n",
            "      dtype='object')\n"
          ]
        }
      ]
    },
    {
      "cell_type": "code",
      "source": [
        "X = data[['L', 'a', 'b']]\n",
        "y = data[['% White', '% Yellow ', '% Red', '% Black ']]"
      ],
      "metadata": {
        "id": "eT50eSDT4E4k"
      },
      "execution_count": null,
      "outputs": []
    },
    {
      "cell_type": "code",
      "source": [
        "X_train, X_test, y_train, y_test = train_test_split(X, y, test_size=0.1, random_state=42)\n"
      ],
      "metadata": {
        "id": "d4-QmCO24fdc"
      },
      "execution_count": null,
      "outputs": []
    },
    {
      "cell_type": "code",
      "source": [
        "# Standardize features by removing the mean and scaling to unit variance\n",
        "scaler = StandardScaler()\n",
        "X_train_scaled = scaler.fit_transform(X_train)\n",
        "X_test_scaled = scaler.transform(X_test)"
      ],
      "metadata": {
        "id": "MDVPVAR84nNX"
      },
      "execution_count": null,
      "outputs": []
    },
    {
      "cell_type": "code",
      "source": [
        "# Define the neural network architecture\n",
        "model = tf.keras.Sequential([\n",
        "    tf.keras.layers.Dense(32, activation='relu', input_shape=(X_train_scaled.shape[1],)),\n",
        "    tf.keras.layers.Dense(4)  # Output layer with 4 units for the 4 color proportions\n",
        "])\n"
      ],
      "metadata": {
        "id": "TNHFeJv13eRe"
      },
      "execution_count": null,
      "outputs": []
    },
    {
      "cell_type": "code",
      "source": [
        "# Compile the model\n",
        "model.compile(optimizer='adam', loss='mse')\n"
      ],
      "metadata": {
        "id": "qcVz5Xss3dSi"
      },
      "execution_count": null,
      "outputs": []
    },
    {
      "cell_type": "code",
      "source": [
        "# Train the model\n",
        "model.fit(X_train_scaled, y_train, epochs=50, batch_size=20, validation_split=0.1)\n",
        "\n",
        "# Evaluate the model on the test set\n",
        "mse = model.evaluate(X_test_scaled, y_test)\n",
        "print(f'Mean Squared Error on Test Set: {mse}')"
      ],
      "metadata": {
        "id": "peXp_aSGDDZ-",
        "colab": {
          "base_uri": "https://localhost:8080/"
        },
        "outputId": "7509a28f-1156-46fa-c1e7-77868eeb1d71"
      },
      "execution_count": null,
      "outputs": [
        {
          "output_type": "stream",
          "name": "stdout",
          "text": [
            "Epoch 1/50\n",
            "4/4 [==============================] - 1s 56ms/step - loss: 1396.1392 - val_loss: 1348.9443\n",
            "Epoch 2/50\n",
            "4/4 [==============================] - 0s 15ms/step - loss: 1394.0243 - val_loss: 1346.8843\n",
            "Epoch 3/50\n",
            "4/4 [==============================] - 0s 14ms/step - loss: 1391.8698 - val_loss: 1344.8578\n",
            "Epoch 4/50\n",
            "4/4 [==============================] - 0s 22ms/step - loss: 1389.7738 - val_loss: 1342.8228\n",
            "Epoch 5/50\n",
            "4/4 [==============================] - 0s 14ms/step - loss: 1387.6805 - val_loss: 1340.7721\n",
            "Epoch 6/50\n",
            "4/4 [==============================] - 0s 14ms/step - loss: 1385.5361 - val_loss: 1338.7198\n",
            "Epoch 7/50\n",
            "4/4 [==============================] - 0s 15ms/step - loss: 1383.3635 - val_loss: 1336.6602\n",
            "Epoch 8/50\n",
            "4/4 [==============================] - 0s 13ms/step - loss: 1381.2545 - val_loss: 1334.5471\n",
            "Epoch 9/50\n",
            "4/4 [==============================] - 0s 13ms/step - loss: 1379.0758 - val_loss: 1332.4302\n",
            "Epoch 10/50\n",
            "4/4 [==============================] - 0s 19ms/step - loss: 1376.8264 - val_loss: 1330.2914\n",
            "Epoch 11/50\n",
            "4/4 [==============================] - 0s 14ms/step - loss: 1374.5953 - val_loss: 1328.1426\n",
            "Epoch 12/50\n",
            "4/4 [==============================] - 0s 19ms/step - loss: 1372.3054 - val_loss: 1325.9550\n",
            "Epoch 13/50\n",
            "4/4 [==============================] - 0s 13ms/step - loss: 1369.9901 - val_loss: 1323.7527\n",
            "Epoch 14/50\n",
            "4/4 [==============================] - 0s 20ms/step - loss: 1367.6445 - val_loss: 1321.5026\n",
            "Epoch 15/50\n",
            "4/4 [==============================] - 0s 20ms/step - loss: 1365.2499 - val_loss: 1319.1941\n",
            "Epoch 16/50\n",
            "4/4 [==============================] - 0s 20ms/step - loss: 1362.7589 - val_loss: 1316.8740\n",
            "Epoch 17/50\n",
            "4/4 [==============================] - 0s 14ms/step - loss: 1360.3251 - val_loss: 1314.4896\n",
            "Epoch 18/50\n",
            "4/4 [==============================] - 0s 19ms/step - loss: 1357.7369 - val_loss: 1312.0714\n",
            "Epoch 19/50\n",
            "4/4 [==============================] - 0s 13ms/step - loss: 1355.1782 - val_loss: 1309.6033\n",
            "Epoch 20/50\n",
            "4/4 [==============================] - 0s 14ms/step - loss: 1352.4896 - val_loss: 1307.0952\n",
            "Epoch 21/50\n",
            "4/4 [==============================] - 0s 13ms/step - loss: 1349.7684 - val_loss: 1304.5388\n",
            "Epoch 22/50\n",
            "4/4 [==============================] - 0s 13ms/step - loss: 1346.9861 - val_loss: 1301.9305\n",
            "Epoch 23/50\n",
            "4/4 [==============================] - 0s 15ms/step - loss: 1344.0972 - val_loss: 1299.2325\n",
            "Epoch 24/50\n",
            "4/4 [==============================] - 0s 13ms/step - loss: 1341.1499 - val_loss: 1296.4795\n",
            "Epoch 25/50\n",
            "4/4 [==============================] - 0s 14ms/step - loss: 1338.1044 - val_loss: 1293.6619\n",
            "Epoch 26/50\n",
            "4/4 [==============================] - 0s 17ms/step - loss: 1335.0260 - val_loss: 1290.7861\n",
            "Epoch 27/50\n",
            "4/4 [==============================] - 0s 13ms/step - loss: 1331.8877 - val_loss: 1287.8452\n",
            "Epoch 28/50\n",
            "4/4 [==============================] - 0s 15ms/step - loss: 1328.6552 - val_loss: 1284.8550\n",
            "Epoch 29/50\n",
            "4/4 [==============================] - 0s 13ms/step - loss: 1325.3501 - val_loss: 1281.7996\n",
            "Epoch 30/50\n",
            "4/4 [==============================] - 0s 13ms/step - loss: 1321.9680 - val_loss: 1278.6920\n",
            "Epoch 31/50\n",
            "4/4 [==============================] - 0s 14ms/step - loss: 1318.4971 - val_loss: 1275.5094\n",
            "Epoch 32/50\n",
            "4/4 [==============================] - 0s 14ms/step - loss: 1314.9507 - val_loss: 1272.2515\n",
            "Epoch 33/50\n",
            "4/4 [==============================] - 0s 16ms/step - loss: 1311.3081 - val_loss: 1268.9456\n",
            "Epoch 34/50\n",
            "4/4 [==============================] - 0s 14ms/step - loss: 1307.6307 - val_loss: 1265.5599\n",
            "Epoch 35/50\n",
            "4/4 [==============================] - 0s 14ms/step - loss: 1303.7877 - val_loss: 1262.1235\n",
            "Epoch 36/50\n",
            "4/4 [==============================] - 0s 17ms/step - loss: 1299.9269 - val_loss: 1258.6340\n",
            "Epoch 37/50\n",
            "4/4 [==============================] - 0s 22ms/step - loss: 1295.9944 - val_loss: 1255.0455\n",
            "Epoch 38/50\n",
            "4/4 [==============================] - 0s 20ms/step - loss: 1291.9761 - val_loss: 1251.4019\n",
            "Epoch 39/50\n",
            "4/4 [==============================] - 0s 14ms/step - loss: 1287.8264 - val_loss: 1247.6847\n",
            "Epoch 40/50\n",
            "4/4 [==============================] - 0s 16ms/step - loss: 1283.5975 - val_loss: 1243.9139\n",
            "Epoch 41/50\n",
            "4/4 [==============================] - 0s 14ms/step - loss: 1279.3146 - val_loss: 1240.0531\n",
            "Epoch 42/50\n",
            "4/4 [==============================] - 0s 12ms/step - loss: 1274.9227 - val_loss: 1236.1093\n",
            "Epoch 43/50\n",
            "4/4 [==============================] - 0s 9ms/step - loss: 1270.4247 - val_loss: 1232.1101\n",
            "Epoch 44/50\n",
            "4/4 [==============================] - 0s 11ms/step - loss: 1265.9069 - val_loss: 1228.0168\n",
            "Epoch 45/50\n",
            "4/4 [==============================] - 0s 10ms/step - loss: 1261.2462 - val_loss: 1223.8517\n",
            "Epoch 46/50\n",
            "4/4 [==============================] - 0s 10ms/step - loss: 1256.4995 - val_loss: 1219.6318\n",
            "Epoch 47/50\n",
            "4/4 [==============================] - 0s 9ms/step - loss: 1251.7285 - val_loss: 1215.3158\n",
            "Epoch 48/50\n",
            "4/4 [==============================] - 0s 9ms/step - loss: 1246.7937 - val_loss: 1210.9662\n",
            "Epoch 49/50\n",
            "4/4 [==============================] - 0s 13ms/step - loss: 1241.8501 - val_loss: 1206.5222\n",
            "Epoch 50/50\n",
            "4/4 [==============================] - 0s 9ms/step - loss: 1236.8243 - val_loss: 1202.0276\n",
            "1/1 [==============================] - 0s 20ms/step - loss: 1398.6559\n",
            "Mean Squared Error on Test Set: 1398.6558837890625\n"
          ]
        }
      ]
    },
    {
      "cell_type": "code",
      "source": [
        "model.summary()"
      ],
      "metadata": {
        "colab": {
          "base_uri": "https://localhost:8080/"
        },
        "id": "qE1IYvQEPcNo",
        "outputId": "a3e35ae9-408b-4c39-dc0e-57adb0651f69"
      },
      "execution_count": null,
      "outputs": [
        {
          "output_type": "stream",
          "name": "stdout",
          "text": [
            "Model: \"sequential_3\"\n",
            "_________________________________________________________________\n",
            " Layer (type)                Output Shape              Param #   \n",
            "=================================================================\n",
            " dense_8 (Dense)             (None, 64)                256       \n",
            "                                                                 \n",
            " dense_9 (Dense)             (None, 32)                2080      \n",
            "                                                                 \n",
            " dense_10 (Dense)            (None, 4)                 132       \n",
            "                                                                 \n",
            "=================================================================\n",
            "Total params: 2468 (9.64 KB)\n",
            "Trainable params: 2468 (9.64 KB)\n",
            "Non-trainable params: 0 (0.00 Byte)\n",
            "_________________________________________________________________\n"
          ]
        }
      ]
    },
    {
      "cell_type": "code",
      "source": [
        "# Example of predicting proportions for a new color (replace with actual LAB values)\n",
        "new_color_lab = np.array([[70, 10, 20]])  # Example LAB values\n",
        "new_color_lab_scaled = scaler.transform(new_color_lab)\n",
        "predicted_proportions = model.predict(new_color_lab_scaled)\n",
        "print(f'Predicted Proportions: {predicted_proportions}')"
      ],
      "metadata": {
        "colab": {
          "base_uri": "https://localhost:8080/"
        },
        "id": "tPGyr55hOoqU",
        "outputId": "22e965df-c8b3-4790-9521-adad488fa011"
      },
      "execution_count": null,
      "outputs": [
        {
          "output_type": "stream",
          "name": "stderr",
          "text": [
            "/usr/local/lib/python3.10/dist-packages/sklearn/base.py:439: UserWarning: X does not have valid feature names, but StandardScaler was fitted with feature names\n",
            "  warnings.warn(\n",
            "WARNING:tensorflow:5 out of the last 10 calls to <function Model.make_predict_function.<locals>.predict_function at 0x79cf1805ee60> triggered tf.function retracing. Tracing is expensive and the excessive number of tracings could be due to (1) creating @tf.function repeatedly in a loop, (2) passing tensors with different shapes, (3) passing Python objects instead of tensors. For (1), please define your @tf.function outside of the loop. For (2), @tf.function has reduce_retracing=True option that can avoid unnecessary retracing. For (3), please refer to https://www.tensorflow.org/guide/function#controlling_retracing and https://www.tensorflow.org/api_docs/python/tf/function for  more details.\n"
          ]
        },
        {
          "output_type": "stream",
          "name": "stdout",
          "text": [
            "1/1 [==============================] - 0s 48ms/step\n",
            "Predicted Proportions: [[6.5580935 2.2296486 3.4295607 1.3268081]]\n"
          ]
        }
      ]
    },
    {
      "cell_type": "code",
      "source": [],
      "metadata": {
        "id": "uoKiooTQiBmH"
      },
      "execution_count": null,
      "outputs": []
    }
  ],
  "metadata": {
    "accelerator": "GPU",
    "colab": {
      "provenance": []
    },
    "gpuClass": "standard",
    "kernelspec": {
      "display_name": "Python 3",
      "name": "python3"
    },
    "language_info": {
      "name": "python"
    }
  },
  "nbformat": 4,
  "nbformat_minor": 0
}