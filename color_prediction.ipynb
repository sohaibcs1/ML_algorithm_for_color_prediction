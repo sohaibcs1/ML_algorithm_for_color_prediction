{
  "cells": [
    {
      "cell_type": "code",
      "source": [
        "import pandas as pd\n",
        "from sklearn.model_selection import train_test_split\n",
        "from sklearn.preprocessing import StandardScaler\n",
        "from sklearn.linear_model import LinearRegression\n",
        "from sklearn.metrics import mean_squared_error\n",
        "\n"
      ],
      "metadata": {
        "id": "3TIanAfb3eJP"
      },
      "execution_count": null,
      "outputs": []
    },
    {
      "cell_type": "code",
      "source": [
        "# Load the dataset\n",
        "data = pd.read_csv('aishadestest.csv')"
      ],
      "metadata": {
        "id": "IiQD8JQm3-m8"
      },
      "execution_count": null,
      "outputs": []
    },
    {
      "cell_type": "code",
      "source": [
        "print(data.isnull().sum())"
      ],
      "metadata": {
        "colab": {
          "base_uri": "https://localhost:8080/"
        },
        "id": "Yv8eRtTw5EFa",
        "outputId": "841cda15-a1b5-47cc-a374-7060d73227c5"
      },
      "execution_count": null,
      "outputs": [
        {
          "output_type": "stream",
          "name": "stdout",
          "text": [
            "SHADE Bestbronze :    0\n",
            "% White               0\n",
            "% Yellow              0\n",
            "% Red                 0\n",
            "% Black               0\n",
            "Total                 0\n",
            "L                     0\n",
            "a                     0\n",
            "b                     0\n",
            "c*                    0\n",
            "h*                    0\n",
            "hexadecimal code      0\n",
            "dtype: int64\n"
          ]
        }
      ]
    },
    {
      "cell_type": "code",
      "source": [
        "print(data.columns)"
      ],
      "metadata": {
        "colab": {
          "base_uri": "https://localhost:8080/"
        },
        "id": "3D8pwyEe3-wT",
        "outputId": "54bd72f2-f7fe-4e9b-81fa-6c27a0ea056b"
      },
      "execution_count": null,
      "outputs": [
        {
          "output_type": "stream",
          "name": "stdout",
          "text": [
            "Index(['SHADE Bestbronze :', '% White', '% Yellow ', '% Red', '% Black ',\n",
            "       'Total ', 'L', 'a', 'b', 'c*', 'h*', 'hexadecimal code'],\n",
            "      dtype='object')\n"
          ]
        }
      ]
    },
    {
      "cell_type": "code",
      "source": [
        "X = data[['L', 'a', 'b']]\n",
        "y = data[['% White', '% Yellow ', '% Red', '% Black ']]"
      ],
      "metadata": {
        "id": "eT50eSDT4E4k"
      },
      "execution_count": null,
      "outputs": []
    },
    {
      "cell_type": "code",
      "source": [
        "#  training and test sets\n",
        "X_train, X_test, y_train, y_test = train_test_split(X, y, test_size=0.1, random_state=42)\n",
        "\n",
        "# Standardize features\n",
        "scaler = StandardScaler()\n",
        "X_train_scaled = scaler.fit_transform(X_train)\n",
        "X_test_scaled = scaler.transform(X_test)"
      ],
      "metadata": {
        "id": "d4-QmCO24fdc"
      },
      "execution_count": null,
      "outputs": []
    },
    {
      "cell_type": "code",
      "source": [
        "# # Initialize and train the linear regression model\n",
        "# model = LinearRegression()\n",
        "# model.fit(X_train_scaled, y_train)\n",
        "\n",
        "# # Make predictions on the test set\n",
        "# y_pred = model.predict(X_test_scaled)\n",
        "\n",
        "# # Evaluate the model\n",
        "# mse = mean_squared_error(y_test, y_pred)\n",
        "# print(f'Mean Squared Error: {mse}')\n",
        "\n",
        "from sklearn.preprocessing import PolynomialFeatures\n",
        "from sklearn.pipeline import make_pipeline\n",
        "from sklearn.linear_model import Ridge\n",
        "from joblib import dump, load\n",
        "\n",
        "\n",
        "\n",
        "model = make_pipeline(PolynomialFeatures(degree=2), Ridge(alpha=0.1))\n",
        "model.fit(X_train_scaled, y_train)\n",
        "\n",
        "\n",
        "dump(model, 'linear_regression_model.joblib')\n",
        "\n",
        "y_pred = model.predict(X_test_scaled)\n",
        "\n",
        "# Evaluate\n",
        "mse = mean_squared_error(y_test, y_pred)\n",
        "print(f'Mean Squared Error: {mse}')"
      ],
      "metadata": {
        "colab": {
          "base_uri": "https://localhost:8080/"
        },
        "id": "MDVPVAR84nNX",
        "outputId": "0f87afc5-15fc-4b86-fb1b-786ca0648dbe"
      },
      "execution_count": null,
      "outputs": [
        {
          "output_type": "stream",
          "name": "stdout",
          "text": [
            "Mean Squared Error: 8.662649287763122\n"
          ]
        }
      ]
    },
    {
      "cell_type": "code",
      "source": [
        "from joblib import dump, load\n",
        "loaded_model = load('linear_regression_model.joblib')\n",
        "\n",
        "\n",
        "#[[L,a,b]]\n",
        "new_color_lab = [[72, 6, 11.4]]\n",
        "new_color_lab_scaled = scaler.transform(new_color_lab)\n",
        "predicted_proportions = loaded_model.predict(new_color_lab_scaled)\n",
        "\n",
        "\n",
        "labels = ['% White', '% Yellow', '% Red', '% Black']\n",
        "predicted_proportions_with_labels = {label: proportion for label, proportion in zip(labels, predicted_proportions[0])}\n",
        "print('Predicted Proportions:')\n",
        "for label, proportion in predicted_proportions_with_labels.items():\n",
        "    print(f'{label}: {proportion}')\n"
      ],
      "metadata": {
        "colab": {
          "base_uri": "https://localhost:8080/"
        },
        "id": "TNHFeJv13eRe",
        "outputId": "3a76a7fc-4695-4c80-f715-f4c103b2a743"
      },
      "execution_count": null,
      "outputs": [
        {
          "output_type": "stream",
          "name": "stdout",
          "text": [
            "Predicted Proportions:\n",
            "% White: 87.04129669233659\n",
            "% Yellow: 10.259230275126512\n",
            "% Red: 1.9667960864752825\n",
            "% Black: 0.732676946061593\n"
          ]
        },
        {
          "output_type": "stream",
          "name": "stderr",
          "text": [
            "/usr/local/lib/python3.10/dist-packages/sklearn/base.py:439: UserWarning: X does not have valid feature names, but StandardScaler was fitted with feature names\n",
            "  warnings.warn(\n"
          ]
        }
      ]
    },
    {
      "cell_type": "code",
      "source": [],
      "metadata": {
        "colab": {
          "base_uri": "https://localhost:8080/"
        },
        "id": "qcVz5Xss3dSi",
        "outputId": "9d0eaf1d-9231-4470-bae0-632a41217b46"
      },
      "execution_count": null,
      "outputs": [
        {
          "output_type": "stream",
          "name": "stdout",
          "text": [
            "Hexadecimal Code: #fdf6d3\n"
          ]
        }
      ]
    },
    {
      "cell_type": "code",
      "source": [],
      "metadata": {
        "id": "peXp_aSGDDZ-"
      },
      "execution_count": null,
      "outputs": []
    }
  ],
  "metadata": {
    "accelerator": "GPU",
    "colab": {
      "provenance": []
    },
    "gpuClass": "standard",
    "kernelspec": {
      "display_name": "Python 3",
      "name": "python3"
    },
    "language_info": {
      "name": "python"
    }
  },
  "nbformat": 4,
  "nbformat_minor": 0
}